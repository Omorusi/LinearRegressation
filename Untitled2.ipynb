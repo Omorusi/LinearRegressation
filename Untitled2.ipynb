{
  "nbformat": 4,
  "nbformat_minor": 0,
  "metadata": {
    "colab": {
      "provenance": [],
      "authorship_tag": "ABX9TyNAgGa4KuJYj4GXKAdydWEq",
      "include_colab_link": true
    },
    "kernelspec": {
      "name": "python3",
      "display_name": "Python 3"
    },
    "language_info": {
      "name": "python"
    }
  },
  "cells": [
    {
      "cell_type": "markdown",
      "metadata": {
        "id": "view-in-github",
        "colab_type": "text"
      },
      "source": [
        "<a href=\"https://colab.research.google.com/github/Omorusi/LinearRegressation/blob/main/Untitled2.ipynb\" target=\"_parent\"><img src=\"https://colab.research.google.com/assets/colab-badge.svg\" alt=\"Open In Colab\"/></a>"
      ]
    },
    {
      "cell_type": "code",
      "execution_count": null,
      "metadata": {
        "id": "TvwTB5qYbGHM"
      },
      "outputs": [],
      "source": [
        "import pandas as pd\n",
        "%matplotlib inline\n",
        "import matplotlib.pyplot as plt\n",
        "import numpy as np\n",
        "from sklearn.linear_model import LinearRegression"
      ]
    },
    {
      "cell_type": "code",
      "source": [
        "data = pd.read_csv('/content/16-17.csv')\n",
        "print(data)"
      ],
      "metadata": {
        "colab": {
          "base_uri": "https://localhost:8080/"
        },
        "id": "DY2yoSRqbVtF",
        "outputId": "8387d39a-084a-4b3e-c4d9-83c275357fa7"
      },
      "execution_count": null,
      "outputs": [
        {
          "output_type": "stream",
          "name": "stdout",
          "text": [
            "    Unnamed: 0         Unnamed: 1 Unnamed: 2 Unnamed: 3 Unnamed: 4 Unnamed: 5  \\\n",
            "0           Rk             Player        Age       Team        Pos          G   \n",
            "1            1  Russell Westbrook         28        OKC         PG         81   \n",
            "2            2       James Harden         27        HOU         PG         81   \n",
            "3            3      Isaiah Thomas         27        BOS         PG         76   \n",
            "4            4      Anthony Davis         23        NOP          C         75   \n",
            "..         ...                ...        ...        ...        ...        ...   \n",
            "615        483         Ben Bentil         21        DAL         PF          3   \n",
            "616        484    Patricio Garino         23        ORL         SG          5   \n",
            "617        485   Danuel House Jr.         23        WAS         SG          1   \n",
            "618        486        R.J. Hunter         23        CHI         SG          3   \n",
            "619        NaN     League Average        NaN        NaN        NaN        NaN   \n",
            "\n",
            "    Unnamed: 6 Unnamed: 7 Unnamed: 8 Unnamed: 9  ... Unnamed: 21 Unnamed: 22  \\\n",
            "0           GS         MP         FG        FGA  ...         ORB         DRB   \n",
            "1           81       2802        824       1941  ...         137         727   \n",
            "2           81       2947        674       1533  ...          95         564   \n",
            "3           76       2569        682       1473  ...          43         162   \n",
            "4           75       2708        770       1526  ...         172         712   \n",
            "..         ...        ...        ...        ...  ...         ...         ...   \n",
            "615          0         10          0          3  ...           0           2   \n",
            "616          0         43          0          7  ...           1           6   \n",
            "617          0          1          0          0  ...           0           1   \n",
            "618          0          9          0          1  ...           0           1   \n",
            "619        NaN        NaN        NaN        NaN  ...         NaN         NaN   \n",
            "\n",
            "    Unnamed: 23 Unnamed: 24 Unnamed: 25 Unnamed: 26 Unnamed: 27 Unnamed: 28  \\\n",
            "0           TRB         AST         STL         BLK         TOV          PF   \n",
            "1           864         840         132          31         438         190   \n",
            "2           659         907         121          38         464         215   \n",
            "3           205         448          70          13         210         167   \n",
            "4           884         157          94         167         181         168   \n",
            "..          ...         ...         ...         ...         ...         ...   \n",
            "615           2           0           0           0           1           1   \n",
            "616           7           0           0           0           3           4   \n",
            "617           1           0           0           0           0           0   \n",
            "618           1           0           0           0           0           0   \n",
            "619         NaN         NaN         NaN         NaN         NaN         NaN   \n",
            "\n",
            "    Unnamed: 29    Unnamed: 30  \n",
            "0           PTS         Awards  \n",
            "1          2558  MVP-1,AS,NBA1  \n",
            "2          2356  MVP-2,AS,NBA1  \n",
            "3          2199  MVP-5,AS,NBA2  \n",
            "4          2099  MVP-9,AS,NBA1  \n",
            "..          ...            ...  \n",
            "615           0            NaN  \n",
            "616           0            NaN  \n",
            "617           0            NaN  \n",
            "618           0            NaN  \n",
            "619         NaN            NaN  \n",
            "\n",
            "[620 rows x 31 columns]\n"
          ]
        }
      ]
    },
    {
      "cell_type": "code",
      "source": [
        "Points  = data['Unnamed: 11']\n",
        "\n",
        "print(Points)\n"
      ],
      "metadata": {
        "colab": {
          "base_uri": "https://localhost:8080/"
        },
        "id": "8llvDAPVcUqB",
        "outputId": "306ff002-7aef-4543-9d76-ef70271debf4"
      },
      "execution_count": null,
      "outputs": [
        {
          "output_type": "stream",
          "name": "stdout",
          "text": [
            "0       3P\n",
            "1      200\n",
            "2      262\n",
            "3      245\n",
            "4       40\n",
            "      ... \n",
            "615      0\n",
            "616      0\n",
            "617      0\n",
            "618      0\n",
            "619    NaN\n",
            "Name: Unnamed: 11, Length: 620, dtype: object\n"
          ]
        }
      ]
    },
    {
      "cell_type": "code",
      "source": [
        "data = pd.read_csv('/content/16-17.csv')\n",
        "print(data)"
      ],
      "metadata": {
        "colab": {
          "base_uri": "https://localhost:8080/"
        },
        "outputId": "62d458db-fe94-468f-8d0a-3d16fe2c4cf4",
        "id": "Yg6ea0Fsd_nY"
      },
      "execution_count": null,
      "outputs": [
        {
          "output_type": "stream",
          "name": "stdout",
          "text": [
            "        Rk              Player   Age Team  Pos     G    GS      MP     FG  \\\n",
            "0      1.0   Russell Westbrook  28.0  OKC   PG  81.0  81.0  2802.0  824.0   \n",
            "1      2.0        James Harden  27.0  HOU   PG  81.0  81.0  2947.0  674.0   \n",
            "2      3.0       Isaiah Thomas  27.0  BOS   PG  76.0  76.0  2569.0  682.0   \n",
            "3      4.0       Anthony Davis  23.0  NOP    C  75.0  75.0  2708.0  770.0   \n",
            "4      5.0  Karl-Anthony Towns  21.0  MIN    C  82.0  82.0  3030.0  802.0   \n",
            "..     ...                 ...   ...  ...  ...   ...   ...     ...    ...   \n",
            "591  483.0          Ben Bentil  21.0  DAL   PF   3.0   0.0    10.0    0.0   \n",
            "592  484.0     Patricio Garino  23.0  ORL   SG   5.0   0.0    43.0    0.0   \n",
            "593  485.0    Danuel House Jr.  23.0  WAS   SG   1.0   0.0     1.0    0.0   \n",
            "594  486.0         R.J. Hunter  23.0  CHI   SG   3.0   0.0     9.0    0.0   \n",
            "595    NaN      League Average   NaN  NaN  NaN   NaN   NaN     NaN    NaN   \n",
            "\n",
            "        FGA  ...    ORB    DRB     TRB    AST    STL    BLK    TOV     PF  \\\n",
            "0    1941.0  ...  137.0  727.0   864.0  840.0  132.0   31.0  438.0  190.0   \n",
            "1    1533.0  ...   95.0  564.0   659.0  907.0  121.0   38.0  464.0  215.0   \n",
            "2    1473.0  ...   43.0  162.0   205.0  448.0   70.0   13.0  210.0  167.0   \n",
            "3    1526.0  ...  172.0  712.0   884.0  157.0   94.0  167.0  181.0  168.0   \n",
            "4    1480.0  ...  296.0  711.0  1007.0  220.0   56.0  103.0  212.0  241.0   \n",
            "..      ...  ...    ...    ...     ...    ...    ...    ...    ...    ...   \n",
            "591     3.0  ...    0.0    2.0     2.0    0.0    0.0    0.0    1.0    1.0   \n",
            "592     7.0  ...    1.0    6.0     7.0    0.0    0.0    0.0    3.0    4.0   \n",
            "593     0.0  ...    0.0    1.0     1.0    0.0    0.0    0.0    0.0    0.0   \n",
            "594     1.0  ...    0.0    1.0     1.0    0.0    0.0    0.0    0.0    0.0   \n",
            "595     NaN  ...    NaN    NaN     NaN    NaN    NaN    NaN    NaN    NaN   \n",
            "\n",
            "        PTS         Awards  \n",
            "0    2558.0  MVP-1,AS,NBA1  \n",
            "1    2356.0  MVP-2,AS,NBA1  \n",
            "2    2199.0  MVP-5,AS,NBA2  \n",
            "3    2099.0  MVP-9,AS,NBA1  \n",
            "4    2061.0            NaN  \n",
            "..      ...            ...  \n",
            "591     0.0            NaN  \n",
            "592     0.0            NaN  \n",
            "593     0.0            NaN  \n",
            "594     0.0            NaN  \n",
            "595     NaN            NaN  \n",
            "\n",
            "[596 rows x 31 columns]\n"
          ]
        }
      ]
    },
    {
      "cell_type": "code",
      "source": [
        "#Displaying a linear regressation line to see how does the file of one of the years works\n",
        "Points  = data['3P']\n",
        "PointsA  = data['3PA']\n",
        "\n",
        "print(Points)\n",
        "print(PointsA)\n",
        "\n",
        "plt.scatter(PointsA,Points)\n",
        "plt.xlabel('PointsA')\n",
        "plt.ylabel('Points')\n",
        "plt.title('Linear Regression ')"
      ],
      "metadata": {
        "colab": {
          "base_uri": "https://localhost:8080/",
          "height": 929
        },
        "id": "XtUAEtMwjt4q",
        "outputId": "b8386c9e-cda9-4a65-c04b-9295b4729d48"
      },
      "execution_count": null,
      "outputs": [
        {
          "output_type": "stream",
          "name": "stdout",
          "text": [
            "0      200.0\n",
            "1      262.0\n",
            "2      245.0\n",
            "3       40.0\n",
            "4      101.0\n",
            "       ...  \n",
            "591      0.0\n",
            "592      0.0\n",
            "593      0.0\n",
            "594      0.0\n",
            "595      NaN\n",
            "Name: 3P, Length: 596, dtype: float64\n",
            "0      583.0\n",
            "1      756.0\n",
            "2      646.0\n",
            "3      134.0\n",
            "4      275.0\n",
            "       ...  \n",
            "591      1.0\n",
            "592      5.0\n",
            "593      0.0\n",
            "594      1.0\n",
            "595      NaN\n",
            "Name: 3PA, Length: 596, dtype: float64\n"
          ]
        },
        {
          "output_type": "execute_result",
          "data": {
            "text/plain": [
              "Text(0.5, 1.0, 'Linear Regression ')"
            ]
          },
          "metadata": {},
          "execution_count": 17
        },
        {
          "output_type": "display_data",
          "data": {
            "text/plain": [
              "<Figure size 640x480 with 1 Axes>"
            ],
            "image/png": "[encoded data removed]"
          },
          "metadata": {}
        }
      ]
    },
    {
      "cell_type": "code",
      "source": [
        "import pandas as pd\n",
        "\n",
        "\n",
        "csv_file_path = '/content/16-17.csv'\n",
        "csv_data = pd.read_csv(csv_file_path)  # Read the CSV into a DataFrame\n",
        "\n",
        "\n",
        "#  Calculating the total of 3P and 3PA from each player of that season\n",
        "\n",
        "total_3P = csv_data['3P'].sum()\n",
        "total_3PA = csv_data['3PA'].sum()\n",
        "\n",
        "# Display the results\n",
        "print(f'Total 3P (Three-Point Field Goals Made): {total_3P}')\n",
        "print(f'Total 3PA (Three-Point Field Goals Attempted): {total_3PA}')\n"
      ],
      "metadata": {
        "colab": {
          "base_uri": "https://localhost:8080/"
        },
        "id": "9BrwstBwR2bB",
        "outputId": "19b34b5e-8037-4972-a704-3686e21064c3"
      },
      "execution_count": 10,
      "outputs": [
        {
          "output_type": "stream",
          "name": "stdout",
          "text": [
            "Total 3P (Three-Point Field Goals Made): 26140.0\n",
            "Total 3PA (Three-Point Field Goals Attempted): 73133.0\n"
          ]
        }
      ]
    },
    {
      "cell_type": "code",
      "source": [
        "import pandas as pd\n",
        "import glob\n",
        "\n",
        "\n",
        "csv_folder_path = '/content/'  # Adjust this path as needed\n",
        "\n",
        "# Get a list of all CSV files in the folder\n",
        "csv_files = glob.glob(csv_folder_path + '*.csv')\n",
        "\n",
        "# Loop through each CSV file\n",
        "for file in csv_files:\n",
        "    csv_data = pd.read_csv(file)\n",
        "\n",
        "    # Check if the DataFrame is empty\n",
        "    if csv_data.empty:\n",
        "        print(f'{file} is empty.')\n",
        "        continue  # Skip empty files\n",
        "\n",
        "\n",
        "    print(f'Processing file: {file}')\n",
        "\n",
        "    # Check if the required columns exist\n",
        "    if '3P' in csv_data.columns and '3PA' in csv_data.columns:\n",
        "        # Convert columns to numeric\n",
        "        csv_data['3P'] = pd.to_numeric(csv_data['3P'], errors='coerce')\n",
        "        csv_data['3PA'] = pd.to_numeric(csv_data['3PA'], errors='coerce')\n",
        "\n",
        "        # Calculate totals for this file\n",
        "        total_3P = csv_data['3P'].sum()\n",
        "        total_3PA = csv_data['3PA'].sum()\n",
        "\n",
        "        # Display the results for the current file\n",
        "        print(f'Total 3P (Three-Point Field Goals Made): {total_3P}')\n",
        "        print(f'Total 3PA (Three-Point Field Goals Attempted): {total_3PA}')\n",
        "    else:\n",
        "        print(f'{file} does not contain the required columns 3P and 3PA.')\n",
        "\n",
        "    print('-' * 40)  # Separator for better readability\n"
      ],
      "metadata": {
        "colab": {
          "base_uri": "https://localhost:8080/"
        },
        "id": "ALfvO-qQVG7W",
        "outputId": "cc782b13-aaf8-4dbe-8297-5feea842175b"
      },
      "execution_count": 17,
      "outputs": [
        {
          "output_type": "stream",
          "name": "stdout",
          "text": [
            "Processing file: /content/0-1.csv\n",
            "/content/0-1.csv does not contain the required columns 3P and 3PA.\n",
            "----------------------------------------\n",
            "Processing file: /content/21-22.csv\n",
            "/content/21-22.csv does not contain the required columns 3P and 3PA.\n",
            "----------------------------------------\n",
            "Processing file: /content/5-6.csv\n",
            "/content/5-6.csv does not contain the required columns 3P and 3PA.\n",
            "----------------------------------------\n",
            "Processing file: /content/14-15.csv\n",
            "/content/14-15.csv does not contain the required columns 3P and 3PA.\n",
            "----------------------------------------\n",
            "Processing file: /content/9-10.csv\n",
            "/content/9-10.csv does not contain the required columns 3P and 3PA.\n",
            "----------------------------------------\n",
            "Processing file: /content/17-18.csv\n",
            "Total 3P (Three-Point Field Goals Made): 28065.0\n",
            "Total 3PA (Three-Point Field Goals Attempted): 77797.0\n",
            "----------------------------------------\n",
            "Processing file: /content/23-24.csv\n",
            "/content/23-24.csv does not contain the required columns 3P and 3PA.\n",
            "----------------------------------------\n",
            "Processing file: /content/18-19.csv\n",
            "Total 3P (Three-Point Field Goals Made): 32654.0\n",
            "Total 3PA (Three-Point Field Goals Attempted): 92113.0\n",
            "----------------------------------------\n",
            "Processing file: /content/2-3.csv\n",
            "Total 3P (Three-Point Field Goals Made): 12933.0\n",
            "Total 3PA (Three-Point Field Goals Attempted): 37101.0\n",
            "----------------------------------------\n",
            "Processing file: /content/3-4.csv\n",
            "/content/3-4.csv does not contain the required columns 3P and 3PA.\n",
            "----------------------------------------\n",
            "Processing file: /content/12-13.csv\n",
            "/content/12-13.csv does not contain the required columns 3P and 3PA.\n",
            "----------------------------------------\n",
            "Processing file: /content/11-12.csv\n",
            "/content/11-12.csv does not contain the required columns 3P and 3PA.\n",
            "----------------------------------------\n",
            "Processing file: /content/4-5.csv\n",
            "/content/4-5.csv does not contain the required columns 3P and 3PA.\n",
            "----------------------------------------\n",
            "Processing file: /content/19-20.csv\n",
            "Total 3P (Three-Point Field Goals Made): 28513.0\n",
            "Total 3PA (Three-Point Field Goals Attempted): 79884.0\n",
            "----------------------------------------\n",
            "Processing file: /content/6-7.csv\n",
            "/content/6-7.csv does not contain the required columns 3P and 3PA.\n",
            "----------------------------------------\n",
            "Processing file: /content/15-16.csv\n",
            "/content/15-16.csv does not contain the required columns 3P and 3PA.\n",
            "----------------------------------------\n",
            "Processing file: /content/1-2.csv\n",
            "Total 3P (Three-Point Field Goals Made): 13230.0\n",
            "Total 3PA (Three-Point Field Goals Attempted): 37517.0\n",
            "----------------------------------------\n",
            "Processing file: /content/20-21.csv\n",
            "Total 3P (Three-Point Field Goals Made): 676.6999999999999\n",
            "Total 3PA (Three-Point Field Goals Attempted): 1913.4\n",
            "----------------------------------------\n",
            "Processing file: /content/10-11.csv\n",
            "/content/10-11.csv does not contain the required columns 3P and 3PA.\n",
            "----------------------------------------\n",
            "Processing file: /content/8-9.csv\n",
            "/content/8-9.csv does not contain the required columns 3P and 3PA.\n",
            "----------------------------------------\n",
            "Processing file: /content/16-17.csv\n",
            "Total 3P (Three-Point Field Goals Made): 26140.0\n",
            "Total 3PA (Three-Point Field Goals Attempted): 73133.0\n",
            "----------------------------------------\n",
            "Processing file: /content/7-8.csv\n",
            "/content/7-8.csv does not contain the required columns 3P and 3PA.\n",
            "----------------------------------------\n"
          ]
        }
      ]
    },
    {
      "cell_type": "code",
      "source": [
        "import pandas as pd\n",
        "import glob\n",
        "import numpy as np\n",
        "import matplotlib.pyplot as plt\n",
        "from sklearn.linear_model import LinearRegression\n",
        "\n",
        "# Define the path to the folder containing the CSV files\n",
        "csv_folder_path = '/content/'  # Adjust this path as needed\n",
        "\n",
        "# Get a list of all CSV files in the folder\n",
        "csv_files = glob.glob(csv_folder_path + '*.csv')\n",
        "\n",
        "# Initialize lists to store the total 3P, 3PA, and corresponding seasons\n",
        "totals = []\n",
        "\n",
        "# Loop through each CSV file\n",
        "for file in csv_files:\n",
        "    csv_data = pd.read_csv(file)\n",
        "\n",
        "    # Check if the DataFrame is empty\n",
        "    if csv_data.empty:\n",
        "        print(f'{file} is empty.')\n",
        "        continue  # Skip empty files\n",
        "\n",
        "    print(f'Processing file: {file}')\n",
        "\n",
        "    # Check if the required columns exist\n",
        "    if '3P' in csv_data.columns and '3PA' in csv_data.columns:\n",
        "        # Convert columns to numeric\n",
        "        csv_data['3P'] = pd.to_numeric(csv_data['3P'], errors='coerce')\n",
        "        csv_data['3PA'] = pd.to_numeric(csv_data['3PA'], errors='coerce')\n",
        "\n",
        "        # Calculate totals for this file\n",
        "        total_3P = csv_data['3P'].sum()\n",
        "        total_3PA = csv_data['3PA'].sum()\n",
        "\n",
        "        # Store the results with the filename (season name)\n",
        "        totals.append((file, total_3P, total_3PA))\n",
        "\n",
        "        # Display the results for the current file\n",
        "        print(f'Total 3P (Three-Point Field Goals Made): {total_3P}')\n",
        "        print(f'Total 3PA (Three-Point Field Goals Attempted): {total_3PA}')\n",
        "    else:\n",
        "        print(f'{file} does not contain the required columns 3P and 3PA.')\n",
        "\n",
        "    print('-' * 40)  # Separator for better readability\n",
        "\n",
        "# Convert the totals into a DataFrame for linear regression analysis\n",
        "totals_df = pd.DataFrame(totals, columns=['Season', 'Total 3P', 'Total 3PA'])\n",
        "\n",
        "# Prepare the data for linear regression\n",
        "X = totals_df['Total 3PA'].values.reshape(-1, 1)  # Predictor variable (3PA)\n",
        "y = totals_df['Total 3P'].values  # Response variable (3P)\n",
        "\n",
        "# Create a linear regression model\n",
        "model = LinearRegression()\n",
        "model.fit(X, y)\n",
        "\n",
        "# Predict values\n",
        "y_pred = model.predict(X)\n",
        "\n",
        "# Print the linear regression coefficients\n",
        "print(f'Linear Regression Coefficient (slope): {model.coef_[0]}')\n",
        "print(f'Linear Regression Intercept: {model.intercept_}')\n",
        "\n",
        "# Plotting the results\n",
        "plt.figure(figsize=(10, 6))\n",
        "plt.scatter(X, y, color='blue', label='Actual Data (3P vs 3PA)')\n",
        "plt.plot(X, y_pred, color='red', linewidth=2, label='Linear Regression Line')\n",
        "plt.title('Linear Regression of 3P vs 3PA')\n",
        "plt.xlabel('Total 3PA (Three-Point Field Goals Attempted)')\n",
        "plt.ylabel('Total 3P (Three-Point Field Goals Made)')\n",
        "plt.legend()\n",
        "plt.grid()\n",
        "plt.show()\n"
      ],
      "metadata": {
        "colab": {
          "base_uri": "https://localhost:8080/",
          "height": 1000
        },
        "id": "qWoEc3-UZD6a",
        "outputId": "322decf0-f26f-4f7a-ee02-32c86a5845a6"
      },
      "execution_count": 20,
      "outputs": [
        {
          "output_type": "stream",
          "name": "stdout",
          "text": [
            "Processing file: /content/0-1.csv\n",
            "/content/0-1.csv does not contain the required columns 3P and 3PA.\n",
            "----------------------------------------\n",
            "Processing file: /content/21-22.csv\n",
            "/content/21-22.csv does not contain the required columns 3P and 3PA.\n",
            "----------------------------------------\n",
            "Processing file: /content/5-6.csv\n",
            "/content/5-6.csv does not contain the required columns 3P and 3PA.\n",
            "----------------------------------------\n",
            "Processing file: /content/14-15.csv\n",
            "/content/14-15.csv does not contain the required columns 3P and 3PA.\n",
            "----------------------------------------\n",
            "Processing file: /content/9-10.csv\n",
            "/content/9-10.csv does not contain the required columns 3P and 3PA.\n",
            "----------------------------------------\n",
            "Processing file: /content/17-18.csv\n",
            "Total 3P (Three-Point Field Goals Made): 28065.0\n",
            "Total 3PA (Three-Point Field Goals Attempted): 77797.0\n",
            "----------------------------------------\n",
            "Processing file: /content/23-24.csv\n",
            "/content/23-24.csv does not contain the required columns 3P and 3PA.\n",
            "----------------------------------------\n",
            "Processing file: /content/18-19.csv\n",
            "Total 3P (Three-Point Field Goals Made): 32654.0\n",
            "Total 3PA (Three-Point Field Goals Attempted): 92113.0\n",
            "----------------------------------------\n",
            "Processing file: /content/2-3.csv\n",
            "Total 3P (Three-Point Field Goals Made): 12933.0\n",
            "Total 3PA (Three-Point Field Goals Attempted): 37101.0\n",
            "----------------------------------------\n",
            "Processing file: /content/3-4.csv\n",
            "/content/3-4.csv does not contain the required columns 3P and 3PA.\n",
            "----------------------------------------\n",
            "Processing file: /content/12-13.csv\n",
            "/content/12-13.csv does not contain the required columns 3P and 3PA.\n",
            "----------------------------------------\n",
            "Processing file: /content/11-12.csv\n",
            "/content/11-12.csv does not contain the required columns 3P and 3PA.\n",
            "----------------------------------------\n",
            "Processing file: /content/4-5.csv\n",
            "/content/4-5.csv does not contain the required columns 3P and 3PA.\n",
            "----------------------------------------\n",
            "Processing file: /content/19-20.csv\n",
            "Total 3P (Three-Point Field Goals Made): 28513.0\n",
            "Total 3PA (Three-Point Field Goals Attempted): 79884.0\n",
            "----------------------------------------\n",
            "Processing file: /content/6-7.csv\n",
            "/content/6-7.csv does not contain the required columns 3P and 3PA.\n",
            "----------------------------------------\n",
            "Processing file: /content/15-16.csv\n",
            "/content/15-16.csv does not contain the required columns 3P and 3PA.\n",
            "----------------------------------------\n",
            "Processing file: /content/1-2.csv\n",
            "Total 3P (Three-Point Field Goals Made): 13230.0\n",
            "Total 3PA (Three-Point Field Goals Attempted): 37517.0\n",
            "----------------------------------------\n",
            "Processing file: /content/20-21.csv\n",
            "Total 3P (Three-Point Field Goals Made): 676.6999999999999\n",
            "Total 3PA (Three-Point Field Goals Attempted): 1913.4\n",
            "----------------------------------------\n",
            "Processing file: /content/10-11.csv\n",
            "/content/10-11.csv does not contain the required columns 3P and 3PA.\n",
            "----------------------------------------\n",
            "Processing file: /content/8-9.csv\n",
            "/content/8-9.csv does not contain the required columns 3P and 3PA.\n",
            "----------------------------------------\n",
            "Processing file: /content/16-17.csv\n",
            "Total 3P (Three-Point Field Goals Made): 26140.0\n",
            "Total 3PA (Three-Point Field Goals Attempted): 73133.0\n",
            "----------------------------------------\n",
            "Processing file: /content/7-8.csv\n",
            "/content/7-8.csv does not contain the required columns 3P and 3PA.\n",
            "----------------------------------------\n",
            "Linear Regression Coefficient (slope): 0.3582985711809197\n",
            "Linear Regression Intercept: -130.52485231661194\n"
          ]
        },
        {
          "output_type": "display_data",
          "data": {
            "text/plain": [
              "<Figure size 1000x600 with 1 Axes>"
            ],
            "image/png": "[encoded data removed]"
          },
          "metadata": {}
        }
      ]
    }
  ]
}