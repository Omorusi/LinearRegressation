{
  "nbformat": 4,
  "nbformat_minor": 0,
  "metadata": {
    "colab": {
      "provenance": [],
      "authorship_tag": "ABX9TyP5MJ+BkwSqgzU1L1AKFyf2",
      "include_colab_link": true
    },
    "kernelspec": {
      "name": "python3",
      "display_name": "Python 3"
    },
    "language_info": {
      "name": "python"
    }
  },
  "cells": [
    {
      "cell_type": "markdown",
      "metadata": {
        "id": "view-in-github",
        "colab_type": "text"
      },
      "source": [
        "<a href=\"https://colab.research.google.com/github/Omorusi/LinearRegressation/blob/main/Untitled2.ipynb\" target=\"_parent\"><img src=\"https://colab.research.google.com/assets/colab-badge.svg\" alt=\"Open In Colab\"/></a>"
      ]
    },
    {
      "cell_type": "code",
      "execution_count": null,
      "metadata": {
        "id": "TvwTB5qYbGHM"
      },
      "outputs": [],
      "source": [
        "import pandas as pd\n",
        "%matplotlib inline\n",
        "import matplotlib.pyplot as plt\n",
        "import numpy as np\n",
        "from sklearn.linear_model import LinearRegression"
      ]
    },
    {
      "cell_type": "code",
      "source": [
        "data = pd.read_csv('/content/16-17.csv')\n",
        "print(data)"
      ],
      "metadata": {
        "colab": {
          "base_uri": "https://localhost:8080/"
        },
        "id": "DY2yoSRqbVtF",
        "outputId": "8387d39a-084a-4b3e-c4d9-83c275357fa7"
      },
      "execution_count": null,
      "outputs": [
        {
          "output_type": "stream",
          "name": "stdout",
          "text": [
            "    Unnamed: 0         Unnamed: 1 Unnamed: 2 Unnamed: 3 Unnamed: 4 Unnamed: 5  \\\n",
            "0           Rk             Player        Age       Team        Pos          G   \n",
            "1            1  Russell Westbrook         28        OKC         PG         81   \n",
            "2            2       James Harden         27        HOU         PG         81   \n",
            "3            3      Isaiah Thomas         27        BOS         PG         76   \n",
            "4            4      Anthony Davis         23        NOP          C         75   \n",
            "..         ...                ...        ...        ...        ...        ...   \n",
            "615        483         Ben Bentil         21        DAL         PF          3   \n",
            "616        484    Patricio Garino         23        ORL         SG          5   \n",
            "617        485   Danuel House Jr.         23        WAS         SG          1   \n",
            "618        486        R.J. Hunter         23        CHI         SG          3   \n",
            "619        NaN     League Average        NaN        NaN        NaN        NaN   \n",
            "\n",
            "    Unnamed: 6 Unnamed: 7 Unnamed: 8 Unnamed: 9  ... Unnamed: 21 Unnamed: 22  \\\n",
            "0           GS         MP         FG        FGA  ...         ORB         DRB   \n",
            "1           81       2802        824       1941  ...         137         727   \n",
            "2           81       2947        674       1533  ...          95         564   \n",
            "3           76       2569        682       1473  ...          43         162   \n",
            "4           75       2708        770       1526  ...         172         712   \n",
            "..         ...        ...        ...        ...  ...         ...         ...   \n",
            "615          0         10          0          3  ...           0           2   \n",
            "616          0         43          0          7  ...           1           6   \n",
            "617          0          1          0          0  ...           0           1   \n",
            "618          0          9          0          1  ...           0           1   \n",
            "619        NaN        NaN        NaN        NaN  ...         NaN         NaN   \n",
            "\n",
            "    Unnamed: 23 Unnamed: 24 Unnamed: 25 Unnamed: 26 Unnamed: 27 Unnamed: 28  \\\n",
            "0           TRB         AST         STL         BLK         TOV          PF   \n",
            "1           864         840         132          31         438         190   \n",
            "2           659         907         121          38         464         215   \n",
            "3           205         448          70          13         210         167   \n",
            "4           884         157          94         167         181         168   \n",
            "..          ...         ...         ...         ...         ...         ...   \n",
            "615           2           0           0           0           1           1   \n",
            "616           7           0           0           0           3           4   \n",
            "617           1           0           0           0           0           0   \n",
            "618           1           0           0           0           0           0   \n",
            "619         NaN         NaN         NaN         NaN         NaN         NaN   \n",
            "\n",
            "    Unnamed: 29    Unnamed: 30  \n",
            "0           PTS         Awards  \n",
            "1          2558  MVP-1,AS,NBA1  \n",
            "2          2356  MVP-2,AS,NBA1  \n",
            "3          2199  MVP-5,AS,NBA2  \n",
            "4          2099  MVP-9,AS,NBA1  \n",
            "..          ...            ...  \n",
            "615           0            NaN  \n",
            "616           0            NaN  \n",
            "617           0            NaN  \n",
            "618           0            NaN  \n",
            "619         NaN            NaN  \n",
            "\n",
            "[620 rows x 31 columns]\n"
          ]
        }
      ]
    },
    {
      "cell_type": "code",
      "source": [
        "Points  = data['Unnamed: 11']\n",
        "\n",
        "print(Points)\n"
      ],
      "metadata": {
        "colab": {
          "base_uri": "https://localhost:8080/"
        },
        "id": "8llvDAPVcUqB",
        "outputId": "306ff002-7aef-4543-9d76-ef70271debf4"
      },
      "execution_count": null,
      "outputs": [
        {
          "output_type": "stream",
          "name": "stdout",
          "text": [
            "0       3P\n",
            "1      200\n",
            "2      262\n",
            "3      245\n",
            "4       40\n",
            "      ... \n",
            "615      0\n",
            "616      0\n",
            "617      0\n",
            "618      0\n",
            "619    NaN\n",
            "Name: Unnamed: 11, Length: 620, dtype: object\n"
          ]
        }
      ]
    },
    {
      "cell_type": "code",
      "source": [
        "data = pd.read_csv('/content/16-17.csv')\n",
        "print(data)"
      ],
      "metadata": {
        "colab": {
          "base_uri": "https://localhost:8080/"
        },
        "outputId": "62d458db-fe94-468f-8d0a-3d16fe2c4cf4",
        "id": "Yg6ea0Fsd_nY"
      },
      "execution_count": 11,
      "outputs": [
        {
          "output_type": "stream",
          "name": "stdout",
          "text": [
            "        Rk              Player   Age Team  Pos     G    GS      MP     FG  \\\n",
            "0      1.0   Russell Westbrook  28.0  OKC   PG  81.0  81.0  2802.0  824.0   \n",
            "1      2.0        James Harden  27.0  HOU   PG  81.0  81.0  2947.0  674.0   \n",
            "2      3.0       Isaiah Thomas  27.0  BOS   PG  76.0  76.0  2569.0  682.0   \n",
            "3      4.0       Anthony Davis  23.0  NOP    C  75.0  75.0  2708.0  770.0   \n",
            "4      5.0  Karl-Anthony Towns  21.0  MIN    C  82.0  82.0  3030.0  802.0   \n",
            "..     ...                 ...   ...  ...  ...   ...   ...     ...    ...   \n",
            "591  483.0          Ben Bentil  21.0  DAL   PF   3.0   0.0    10.0    0.0   \n",
            "592  484.0     Patricio Garino  23.0  ORL   SG   5.0   0.0    43.0    0.0   \n",
            "593  485.0    Danuel House Jr.  23.0  WAS   SG   1.0   0.0     1.0    0.0   \n",
            "594  486.0         R.J. Hunter  23.0  CHI   SG   3.0   0.0     9.0    0.0   \n",
            "595    NaN      League Average   NaN  NaN  NaN   NaN   NaN     NaN    NaN   \n",
            "\n",
            "        FGA  ...    ORB    DRB     TRB    AST    STL    BLK    TOV     PF  \\\n",
            "0    1941.0  ...  137.0  727.0   864.0  840.0  132.0   31.0  438.0  190.0   \n",
            "1    1533.0  ...   95.0  564.0   659.0  907.0  121.0   38.0  464.0  215.0   \n",
            "2    1473.0  ...   43.0  162.0   205.0  448.0   70.0   13.0  210.0  167.0   \n",
            "3    1526.0  ...  172.0  712.0   884.0  157.0   94.0  167.0  181.0  168.0   \n",
            "4    1480.0  ...  296.0  711.0  1007.0  220.0   56.0  103.0  212.0  241.0   \n",
            "..      ...  ...    ...    ...     ...    ...    ...    ...    ...    ...   \n",
            "591     3.0  ...    0.0    2.0     2.0    0.0    0.0    0.0    1.0    1.0   \n",
            "592     7.0  ...    1.0    6.0     7.0    0.0    0.0    0.0    3.0    4.0   \n",
            "593     0.0  ...    0.0    1.0     1.0    0.0    0.0    0.0    0.0    0.0   \n",
            "594     1.0  ...    0.0    1.0     1.0    0.0    0.0    0.0    0.0    0.0   \n",
            "595     NaN  ...    NaN    NaN     NaN    NaN    NaN    NaN    NaN    NaN   \n",
            "\n",
            "        PTS         Awards  \n",
            "0    2558.0  MVP-1,AS,NBA1  \n",
            "1    2356.0  MVP-2,AS,NBA1  \n",
            "2    2199.0  MVP-5,AS,NBA2  \n",
            "3    2099.0  MVP-9,AS,NBA1  \n",
            "4    2061.0            NaN  \n",
            "..      ...            ...  \n",
            "591     0.0            NaN  \n",
            "592     0.0            NaN  \n",
            "593     0.0            NaN  \n",
            "594     0.0            NaN  \n",
            "595     NaN            NaN  \n",
            "\n",
            "[596 rows x 31 columns]\n"
          ]
        }
      ]
    },
    {
      "cell_type": "code",
      "source": [
        "Points  = data['3P']\n",
        "PointsA  = data['3PA']\n",
        "\n",
        "print(Points)\n",
        "print(PointsA)\n",
        "\n",
        "plt.scatter(PointsA,Points)\n",
        "plt.xlabel('PointsA')\n",
        "plt.ylabel('Points')\n",
        "plt.title('Linear Regression ')"
      ],
      "metadata": {
        "colab": {
          "base_uri": "https://localhost:8080/",
          "height": 929
        },
        "id": "XtUAEtMwjt4q",
        "outputId": "b8386c9e-cda9-4a65-c04b-9295b4729d48"
      },
      "execution_count": 17,
      "outputs": [
        {
          "output_type": "stream",
          "name": "stdout",
          "text": [
            "0      200.0\n",
            "1      262.0\n",
            "2      245.0\n",
            "3       40.0\n",
            "4      101.0\n",
            "       ...  \n",
            "591      0.0\n",
            "592      0.0\n",
            "593      0.0\n",
            "594      0.0\n",
            "595      NaN\n",
            "Name: 3P, Length: 596, dtype: float64\n",
            "0      583.0\n",
            "1      756.0\n",
            "2      646.0\n",
            "3      134.0\n",
            "4      275.0\n",
            "       ...  \n",
            "591      1.0\n",
            "592      5.0\n",
            "593      0.0\n",
            "594      1.0\n",
            "595      NaN\n",
            "Name: 3PA, Length: 596, dtype: float64\n"
          ]
        },
        {
          "output_type": "execute_result",
          "data": {
            "text/plain": [
              "Text(0.5, 1.0, 'Linear Regression ')"
            ]
          },
          "metadata": {},
          "execution_count": 17
        },
        {
          "output_type": "display_data",
          "data": {
            "text/plain": [
              "<Figure size 640x480 with 1 Axes>"
            ],
            "image/png": "[encoded data removed]"
          },
          "metadata": {}
        }
      ]
    },
    {
      "cell_type": "code",
      "source": [],
      "metadata": {
        "id": "ElP2yJRNkF_q"
      },
      "execution_count": null,
      "outputs": []
    },
    {
      "cell_type": "code",
      "source": [
        "data = pd.read_csv('/content/16-17.csv')\n",
        "print(data)"
      ],
      "metadata": {
        "colab": {
          "base_uri": "https://localhost:8080/"
        },
        "outputId": "8387d39a-084a-4b3e-c4d9-83c275357fa7",
        "id": "TfjoEj8hd9qJ"
      },
      "execution_count": null,
      "outputs": [
        {
          "output_type": "stream",
          "name": "stdout",
          "text": [
            "    Unnamed: 0         Unnamed: 1 Unnamed: 2 Unnamed: 3 Unnamed: 4 Unnamed: 5  \\\n",
            "0           Rk             Player        Age       Team        Pos          G   \n",
            "1            1  Russell Westbrook         28        OKC         PG         81   \n",
            "2            2       James Harden         27        HOU         PG         81   \n",
            "3            3      Isaiah Thomas         27        BOS         PG         76   \n",
            "4            4      Anthony Davis         23        NOP          C         75   \n",
            "..         ...                ...        ...        ...        ...        ...   \n",
            "615        483         Ben Bentil         21        DAL         PF          3   \n",
            "616        484    Patricio Garino         23        ORL         SG          5   \n",
            "617        485   Danuel House Jr.         23        WAS         SG          1   \n",
            "618        486        R.J. Hunter         23        CHI         SG          3   \n",
            "619        NaN     League Average        NaN        NaN        NaN        NaN   \n",
            "\n",
            "    Unnamed: 6 Unnamed: 7 Unnamed: 8 Unnamed: 9  ... Unnamed: 21 Unnamed: 22  \\\n",
            "0           GS         MP         FG        FGA  ...         ORB         DRB   \n",
            "1           81       2802        824       1941  ...         137         727   \n",
            "2           81       2947        674       1533  ...          95         564   \n",
            "3           76       2569        682       1473  ...          43         162   \n",
            "4           75       2708        770       1526  ...         172         712   \n",
            "..         ...        ...        ...        ...  ...         ...         ...   \n",
            "615          0         10          0          3  ...           0           2   \n",
            "616          0         43          0          7  ...           1           6   \n",
            "617          0          1          0          0  ...           0           1   \n",
            "618          0          9          0          1  ...           0           1   \n",
            "619        NaN        NaN        NaN        NaN  ...         NaN         NaN   \n",
            "\n",
            "    Unnamed: 23 Unnamed: 24 Unnamed: 25 Unnamed: 26 Unnamed: 27 Unnamed: 28  \\\n",
            "0           TRB         AST         STL         BLK         TOV          PF   \n",
            "1           864         840         132          31         438         190   \n",
            "2           659         907         121          38         464         215   \n",
            "3           205         448          70          13         210         167   \n",
            "4           884         157          94         167         181         168   \n",
            "..          ...         ...         ...         ...         ...         ...   \n",
            "615           2           0           0           0           1           1   \n",
            "616           7           0           0           0           3           4   \n",
            "617           1           0           0           0           0           0   \n",
            "618           1           0           0           0           0           0   \n",
            "619         NaN         NaN         NaN         NaN         NaN         NaN   \n",
            "\n",
            "    Unnamed: 29    Unnamed: 30  \n",
            "0           PTS         Awards  \n",
            "1          2558  MVP-1,AS,NBA1  \n",
            "2          2356  MVP-2,AS,NBA1  \n",
            "3          2199  MVP-5,AS,NBA2  \n",
            "4          2099  MVP-9,AS,NBA1  \n",
            "..          ...            ...  \n",
            "615           0            NaN  \n",
            "616           0            NaN  \n",
            "617           0            NaN  \n",
            "618           0            NaN  \n",
            "619         NaN            NaN  \n",
            "\n",
            "[620 rows x 31 columns]\n"
          ]
        }
      ]
    }
  ]
}